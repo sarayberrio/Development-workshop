{
 "cells": [
  {
   "cell_type": "markdown",
   "metadata": {},
   "source": [
    "## Imports"
   ]
  },
  {
   "cell_type": "code",
   "execution_count": 31,
   "metadata": {},
   "outputs": [],
   "source": [
    "from datetime import date\n",
    "import os.path"
   ]
  },
  {
   "cell_type": "markdown",
   "metadata": {},
   "source": [
    "## Global Variables"
   ]
  },
  {
   "cell_type": "code",
   "execution_count": 32,
   "metadata": {},
   "outputs": [],
   "source": [
    "patients_ids_list = []\n",
    "patients_list = []\n",
    "gurneys = []\n",
    "number_of_occupied_gurneys = 0"
   ]
  },
  {
   "cell_type": "markdown",
   "metadata": {},
   "source": [
    "## Classes"
   ]
  },
  {
   "cell_type": "markdown",
   "metadata": {},
   "source": [
    "### Gurney Class"
   ]
  },
  {
   "cell_type": "code",
   "execution_count": 33,
   "metadata": {},
   "outputs": [],
   "source": [
    "class Gurney:\n",
    "    def __init__(self, id_gurney, occupied, id_patient):\n",
    "        self.id_gurney = id_gurney\n",
    "        self.occupied = occupied\n",
    "        self.id_patient = id_patient\n",
    "    \n",
    "    def __str__(self):\n",
    "        return \"id_gurney: {}, occupied: {}, id_patient: {}\".format(self.id_gurney, self.occupied, self.id_patient)\n",
    "    \n",
    "    def register_patient_on_gurney(self, gurneys, new_patient):\n",
    "        for gurney in gurneys:\n",
    "            if(gurney.occupied):\n",
    "                number_of_occupied_gurneys += 1\n",
    "        \n",
    "        number_of_available_gurneys = (len(gurneys) - number_of_occupied_gurneys)\n",
    "        \n",
    "        if(number_of_available_gurneys > 0):\n",
    "            for gurney in gurneys:\n",
    "                if(gurney.occupied == False):\n",
    "                    gurney.occupied = True\n",
    "                    number_of_occupied_gurneys =+ 1\n",
    "                    patients_list.append(new_patient)\n",
    "                    \n",
    "                    # update patient file\n",
    "                    register_patients_on_files(new_patient)\n",
    "                    \n",
    "                    # update gurney file\n",
    "                    register_gurneys_on_files(gurney)\n",
    "                    \n",
    "        else:\n",
    "            print(\"There's no availiable gurneys...\")"
   ]
  },
  {
   "cell_type": "markdown",
   "metadata": {},
   "source": [
    "### Medical History Class"
   ]
  },
  {
   "cell_type": "code",
   "execution_count": 34,
   "metadata": {},
   "outputs": [],
   "source": [
    "class MedicalHistory:\n",
    "  vital_signs = {\"blood pressure\", \"temperature\", \"o2 saturation\", \"respiratory rate\"}\n",
    "  evolution_note = \"\"\n",
    "  laboratory_test_results = \"\"\n",
    "  formulated_drugs = \"\"\n",
    "  id_patient = \"\"\n",
    "  name_patient = \"\"\n",
    "\n",
    "  def __init__(self, patient_id=None, blood_pressure=None, temperature=None, o2_saturation=None, respiratory_rate=None, evolution_note=None, diagnosis=None, medicines_formuled=None):\n",
    "    self.patient_id = patient_id\n",
    "    self.blood_pressure = blood_pressure\n",
    "    self.temperature = temperature\n",
    "    self.o2_saturation = o2_saturation\n",
    "    self.respiratory_rate = respiratory_rate\n",
    "    self.evolution_note = evolution_note\n",
    "    self.diagnosis = diagnosis\n",
    "    self.medicines_formuled = medicines_formuled\n",
    "    \n",
    "  def __str__(self):\n",
    "    return \"patient_id: {}, blood_pressure: {}, temperature: {}, o2_saturation: {}, respiratory_rate: {}, evolution_note: {}, diagnosis: {}, medicines_formuled: {}\".format(self.patient_id, self.blood_pressure, self.temperature, self.o2_saturation, self.respiratory_rate, self.evolution_note, self.diagnosis, self.medicines_formuled)\n",
    "\n",
    "  def get_clinical_history(self):\n",
    "    self.vital_signs = {}\n",
    "    self.evolution_note = str(input(\"Enter the results of laboratory tests: \"))\n",
    "    self.blood_pressure = float(input(\"Enter your blood pressure: \"))\n",
    "    self.temperature = float(input(\"enter your temperature: \"))\n",
    "    self.o2_saturation = float(input(\"Enter your oxygen saturation: \"))\n",
    "    self.respiratory_rate = float(input(\"Enter your respiratory rate: \"))\n",
    "    self.evolution_note = str(input(\"Enter your evolution note: \"))\n",
    "    self.medicines_formuled = str(input(\"Enter your formulated medicines (separated by commas): \"))\n",
    "\n",
    "  def diagnosis_method(self):\n",
    "    chronic_diseases = []\n",
    "    if self.blood_pressure > 140/90:\n",
    "      chronic_diseases.append(\"Arterial hypertension\")\n",
    "    if self.temperature > 37.5:\n",
    "      chronic_diseases.append(\"Fever\")\n",
    "    if self.temperature < 35:\n",
    "      chronic_diseases.append(\"Hypothermia\")\n",
    "    if self.o2_saturation < 95:\n",
    "      chronic_diseases.append(\"Low oxygen saturation\")\n",
    "    if self.respiratory_rate < 12 or self.respiratory_rate > 20:\n",
    "      chronic_diseases.append(\"Abnormal respiratory rate\")\n",
    "    self.diagnosis = chronic_diseases\n",
    "    \n",
    "    register_medical_history_on_files(self)\n",
    "    print(chronic_diseases)"
   ]
  },
  {
   "cell_type": "markdown",
   "metadata": {},
   "source": [
    "### Patient Class"
   ]
  },
  {
   "cell_type": "code",
   "execution_count": 35,
   "metadata": {},
   "outputs": [],
   "source": [
    "class Patient:\n",
    "  def __init__(self, id=None, name=None, sex=None, birth_day=None):\n",
    "    self.id = id\n",
    "    self.name = name\n",
    "    self.sex = sex\n",
    "    self.birth_day = birth_day\n",
    "  \n",
    "  def __str__(self):\n",
    "    return \"id: {}, name: {}, sex: {}, birth_day: {}\".format(self.id, self.name, self.sex, self.birth_day)\n",
    "  \n",
    "  def get_patient_data(self, id=\"\", name=\"\", sex=\"\", birth_day=\"\"):\n",
    "    \n",
    "    self.id = str(input(\"Type the identification document of the patient: \")) #Valdiate if there's a patient with the entered id\n",
    "    \n",
    "    while(validate_patient_id(self.id) == \"error\"):\n",
    "      print(\"There's already a patient registered with this identification...\")\n",
    "      self.id = str(input(\"Type the identification document of the patient: \"))\n",
    "    \n",
    "    self.name = str(input(\"Type the patient's name: \"))\n",
    "    user_input_patient_sex = str(input(\"Type the patient's sex (M (male) | F (female)): \"))\n",
    "    \n",
    "    # Validate that the sex is valid\n",
    "    while (validate_patient_sex(user_input_patient_sex) == \"error\"):\n",
    "      print(\"The unique valid options are M (male) or F (female)...\")\n",
    "      user_input_patient_sex = str(input(\"Type the patient's sex (male (M) | female (F)): \"))\n",
    "    self.sex = user_input_patient_sex\n",
    "    \n",
    "    # Get the patient's birthday\n",
    "    self.birth_day = get_patient_birthday()\n",
    "    \n",
    "    # Update the patients file with the new patient\n",
    "    register_patients_on_files(self)\n",
    "    \n",
    "    # Assign a gurney to the new patient\n",
    "    assign_gurney_to_new_patient(self)"
   ]
  },
  {
   "cell_type": "markdown",
   "metadata": {},
   "source": [
    "## Global functions"
   ]
  },
  {
   "cell_type": "markdown",
   "metadata": {},
   "source": [
    "### Create a gurney-patient record on the gurneys file"
   ]
  },
  {
   "cell_type": "code",
   "execution_count": 36,
   "metadata": {},
   "outputs": [],
   "source": [
    "def register_gurneys_on_files(new_gurney):  \n",
    "  try:\n",
    "    # Check if the file exists\n",
    "    with open(\"./gurneys.txt\", 'r') as file:\n",
    "        existing_content = file.read()\n",
    "      \n",
    "    # If the file exists, append the line to the end\n",
    "    with open(\"./gurneys.txt\", 'a') as file:\n",
    "      file.write(\"\\n\" + \"id_gurney: {}, occupied: {}, id_patient: {}\".format(new_gurney.id_gurney, new_gurney.occupied, new_gurney.id_patient))\n",
    "    \n",
    "    file.close()\n",
    "  except FileNotFoundError:\n",
    "    # If the file doesn't exist, create it and add the line at the beginning\n",
    "    with open(\"./gurneys.txt\", 'w') as file:\n",
    "      file.write(\"id_gurney: {}, occupied: {}, id_patient: {}\".format(new_gurney.id_gurney, new_gurney.occupied, new_gurney.id_patient))\n",
    "    file.close()\n",
    "  \n",
    "    "
   ]
  },
  {
   "cell_type": "markdown",
   "metadata": {},
   "source": [
    "### Create a medical history record on the medical histories file"
   ]
  },
  {
   "cell_type": "code",
   "execution_count": 37,
   "metadata": {},
   "outputs": [],
   "source": [
    "def register_medical_history_on_files(new_medical_history):\n",
    "  \n",
    "  try:\n",
    "    # Check if the file exists\n",
    "    with open(\"./medical_histories.txt\", 'r') as file:\n",
    "        existing_content = file.read()\n",
    "      \n",
    "    # If the file exists, append the line to the end\n",
    "    with open(\"./medical_histories.txt\", 'a') as file:\n",
    "      file.write(\"\\n\" + \"patient_id: {}, blood_pressure: {}, temperature: {}, o2_saturation: {}, respiratory_rate: {}, evolution_note: {}, diagnosis: {}, medicines_formuled: {}\".format(new_medical_history.patient_id, new_medical_history.blood_pressure, new_medical_history.temperature, new_medical_history.o2_saturation, new_medical_history.respiratory_rate, new_medical_history.evolution_note, new_medical_history.diagnosis, new_medical_history.medicines_formuled))\n",
    "    file.close()\n",
    "  except FileNotFoundError:\n",
    "    # If the file doesn't exist, create it and add the line at the beginning\n",
    "    with open(\"./medical_histories.txt\", 'w') as file:\n",
    "      file.write(\"patient_id: {}, blood_pressure: {}, temperature: {}, o2_saturation: {}, respiratory_rate: {}, evolution_note: {}, diagnosis: {}, medicines_formuled: {}\".format(new_medical_history.patient_id, new_medical_history.blood_pressure, new_medical_history.temperature, new_medical_history.o2_saturation, new_medical_history.respiratory_rate, new_medical_history.evolution_note, new_medical_history.diagnosis, new_medical_history.medicines_formuled))\n",
    "    file.close()"
   ]
  },
  {
   "cell_type": "markdown",
   "metadata": {},
   "source": [
    "### Create a patient record on the patients file"
   ]
  },
  {
   "cell_type": "code",
   "execution_count": 38,
   "metadata": {},
   "outputs": [],
   "source": [
    "def register_patients_on_files(new_patient):   \n",
    "  try:\n",
    "    # Check if the file exists\n",
    "    with open(\"./patients.txt\", 'r') as file:\n",
    "        existing_content = file.read()\n",
    "      \n",
    "    # If the file exists, append the line to the end\n",
    "    with open(\"./patients.txt\", 'a') as file:\n",
    "      file.write(\"\\n\" + \"id: {}, name: {}, sex: {}, birth_day: {}\".format(new_patient.id, new_patient.name, new_patient.sex, new_patient.birth_day))\n",
    "    file.close()\n",
    "  except FileNotFoundError:\n",
    "    # If the file doesn't exist, create it and add the line at the beginning\n",
    "    with open(\"./patients.txt\", 'w') as file:\n",
    "      file.write(\"id: {}, name: {}, sex: {}, birth_day: {}\".format(new_patient.id, new_patient.name, new_patient.sex, new_patient.birth_day))\n",
    "    file.close()"
   ]
  },
  {
   "cell_type": "markdown",
   "metadata": {},
   "source": [
    "### Initialize Gurney Function"
   ]
  },
  {
   "cell_type": "code",
   "execution_count": 39,
   "metadata": {},
   "outputs": [],
   "source": [
    "\n",
    "def initialize_gurney():\n",
    "    for i in range(1, 301):\n",
    "        id_gurney_temp = \"\"\n",
    "        if i < 10:\n",
    "            id_gurney_temp = (\"gur00\" + str(i))\n",
    "        elif i >= 10 or i < 100:\n",
    "            id_gurney_temp = (\"gur0\" + str(i))\n",
    "        else:\n",
    "            id_gurney_temp = (\"gur\" + str(i))\n",
    "        occupied_temp = False\n",
    "        id_patient_temp = \"none\"\n",
    "        gurney = Gurney(id_gurney_temp, occupied_temp, id_patient_temp)\n",
    "        register_gurneys_on_files(gurney)\n",
    "        gurneys.append(gurney)"
   ]
  },
  {
   "cell_type": "markdown",
   "metadata": {},
   "source": [
    "### Validate Patient's Id Function"
   ]
  },
  {
   "cell_type": "code",
   "execution_count": 40,
   "metadata": {},
   "outputs": [],
   "source": [
    "def validate_patient_id(patient_id):\n",
    "  \n",
    "  try:\n",
    "    # Check if the file exists\n",
    "    with open(\"./patients.txt\", 'r') as file:\n",
    "        existing_content = file.read()\n",
    "        if(existing_content.find(patient_id)):\n",
    "          return \"error\"\n",
    "  except FileNotFoundError:\n",
    "    return \"success\"\n",
    "  return \"success\""
   ]
  },
  {
   "cell_type": "markdown",
   "metadata": {},
   "source": [
    "### Validate Sex Function"
   ]
  },
  {
   "cell_type": "code",
   "execution_count": 41,
   "metadata": {},
   "outputs": [],
   "source": [
    "def validate_patient_sex(sex):\n",
    "  if(sex != \"M\" and sex != \"m\" and sex != \"F\" and sex != \"f\"):\n",
    "    return \"error\"\n",
    "  return \"success\""
   ]
  },
  {
   "cell_type": "markdown",
   "metadata": {},
   "source": [
    "### Get Patient's Birthday Function"
   ]
  },
  {
   "cell_type": "code",
   "execution_count": 42,
   "metadata": {},
   "outputs": [],
   "source": [
    "def get_patient_birthday():\n",
    "  print(\"Type the number of the patient birthday...\")\n",
    "  day = int(input(\"Day: \"))\n",
    "  month = int(input(\"Month: \"))\n",
    "  year = int(input(\"Year: \"))\n",
    "  return date(year,month,day)"
   ]
  },
  {
   "cell_type": "markdown",
   "metadata": {},
   "source": [
    "### Assign a gurney to the new patient"
   ]
  },
  {
   "cell_type": "code",
   "execution_count": 43,
   "metadata": {},
   "outputs": [],
   "source": [
    "def assign_gurney_to_new_patient(new_patient):\n",
    "  try:\n",
    "    updated_list = []\n",
    "    # Read the original file and store its lines\n",
    "    with open(\"./gurneys.txt\", 'r') as file:\n",
    "      lines = file.readlines()\n",
    "    file.close()\n",
    "    \n",
    "    updated_list = lines\n",
    "    # Update the available gurney\n",
    "    for line in lines:\n",
    "      if(\"occupied: False\" in line):\n",
    "        index = updated_list.index(line)\n",
    "        line = line.replace(\"False\", \"True\")\n",
    "        line = line.replace(\"none\", new_patient.id)\n",
    "        updated_list[index] = line\n",
    "        print(line)\n",
    "        break\n",
    "    print(lines[0])\n",
    "    # Open the file for writing\n",
    "    with open(\"./gurneys.txt\", 'w') as file:\n",
    "      for line in updated_list:\n",
    "        file.write(line)\n",
    "    file.close()\n",
    "    \n",
    "  except FileNotFoundError:\n",
    "    print(\"File not found.\")"
   ]
  },
  {
   "cell_type": "markdown",
   "metadata": {},
   "source": [
    "### Assign a clinic history to the new patient"
   ]
  },
  {
   "cell_type": "code",
   "execution_count": 44,
   "metadata": {},
   "outputs": [],
   "source": [
    "def assign_clinic_history_to_patient():\n",
    "  try:\n",
    "    # Check if the file exists\n",
    "    with open(\"./patients.txt\", 'r') as file:\n",
    "        existing_content = file.read()\n",
    "      \n",
    "    # If the file exists, append the line to the end\n",
    "    with open(\"./patients.txt\", 'a') as file:\n",
    "      file.write(\"\\n\" + \"id: {}, name: {}, sex: {}, birth_day: {}\".format(new_patient.id, new_patient.name, new_patient.sex, new_patient.birth_day))\n",
    "    file.close()\n",
    "  except FileNotFoundError:\n",
    "    # If the file doesn't exist, create it and add the line at the beginning\n",
    "    with open(\"./patients.txt\", 'w') as file:\n",
    "      file.write(\"id: {}, name: {}, sex: {}, birth_day: {}\".format(new_patient.id, new_patient.name, new_patient.sex, new_patient.birth_day))\n",
    "    file.close()"
   ]
  },
  {
   "cell_type": "markdown",
   "metadata": {},
   "source": [
    "### Delete pacient from the guerney because it's recovered"
   ]
  },
  {
   "cell_type": "code",
   "execution_count": null,
   "metadata": {},
   "outputs": [],
   "source": [
    "def delete_patient_from_gurney(patient_id):\n",
    "  try:\n",
    "    patient_found = False\n",
    "    updated_list = []\n",
    "    # Read the original file and store its lines\n",
    "    with open(\"./gurneys.txt\", 'r') as file:\n",
    "      lines = file.readlines()\n",
    "    file.close()\n",
    "    updated_list = lines\n",
    "    \n",
    "    # Update the available gurney\n",
    "    for line in lines:\n",
    "      if(patient_id in line):\n",
    "        index = updated_list.index(line)\n",
    "        line = line.replace(\"True\", \"False\")\n",
    "        line = line.replace(patient_id, \"none\")\n",
    "        updated_list[index] = line\n",
    "        patient_found = True\n",
    "    # Open the file for writing\n",
    "    with open(\"./gurneys.txt\", 'w') as file:\n",
    "      for line in updated_list:\n",
    "        file.write(line)\n",
    "    file.close()\n",
    "    \n",
    "    if(patient_found == False):\n",
    "      return \"not found\"\n",
    "    else:\n",
    "      return \"found\"\n",
    "    \n",
    "  except FileNotFoundError:\n",
    "    print(\"File not found.\")"
   ]
  },
  {
   "cell_type": "markdown",
   "metadata": {},
   "source": [
    "### Get Patient Reports"
   ]
  },
  {
   "cell_type": "code",
   "execution_count": null,
   "metadata": {},
   "outputs": [],
   "source": [
    "def get_patient_reports():\n",
    "  with open(\"./gurneys.txt\", 'r') as file:\n",
    "    gurneys_content = file.read()\n",
    "  file.close()\n",
    "  \n",
    "  with open(\"./patients.txt\", 'r') as file:\n",
    "    patients_content = file.read()\n",
    "  file.close()\n",
    "  \n",
    "  with open(\"./medical_histories.txt\", 'r') as file:\n",
    "    medical_histories_content = file.read()\n",
    "  file.close()\n",
    "  \n",
    "  amount_of_occupied_guernys = 0\n",
    "  \n",
    "  for line in gurneys_content:\n",
    "    if(\"True\" in line):\n",
    "      amount_of_occupied_guernys += 1\n",
    "  \n",
    "  print(\"************************** Percentage of bed occupancy **************************\")\n",
    "  print((amount_of_occupied_guernys * 100)/300, \"%\")\n",
    "  \n",
    "  print(\"************** Number of admissions and discharges by service *******************\")\n",
    "  print(\"Admissions: \" + amount_of_occupied_guernys)\n",
    "  print(\"Hospital discharges\")\n",
    "  \n",
    "  print(\"*********************** Patients with chronic diseases **************************\")\n",
    "  for line in medical_histories_content:\n",
    "    if(\"Arterial hypertension\" in line or \"Fever\" in line or \"Hypothermia\" in line or \"Low oxygen saturation\" in line or \"Abnormal respiratory rate\" in line):\n",
    "      print(line)\n",
    "      \n",
    "  print(\"*********************** Medicines per service**************************\")\n",
    "  for line in medical_histories_content:\n",
    "    if(\"Arterial hypertension\" in line or \"Fever\" in line or \"Hypothermia\" in line or \"Low oxygen saturation\" in line or \"Abnormal respiratory rate\" in line):\n",
    "      print(line[0:line.find(\",\")] + \" Chronic Diseases\"  + line[line.find(\"[\"):s.find(\"]\")])"
   ]
  },
  {
   "cell_type": "markdown",
   "metadata": {},
   "source": [
    "### Main Function"
   ]
  },
  {
   "cell_type": "code",
   "execution_count": 45,
   "metadata": {},
   "outputs": [
    {
     "name": "stdout",
     "output_type": "stream",
     "text": [
      "Type the number of the patient birthday...\n",
      "id_gurney: gur001, occupied: True, id_patient: 123\n",
      "\n",
      "id_gurney: gur001, occupied: True, id_patient: 123\n",
      "\n",
      "['Arterial hypertension', 'Fever', 'Low oxygen saturation', 'Abnormal respiratory rate']\n",
      "id: 123, name: dan, sex: m, birth_day: 1999-01-01\n"
     ]
    }
   ],
   "source": [
    "if __name__ == \"__main__\":\n",
    "  initialize_gurney()\n",
    "  keep_option = \"Y\"\n",
    "  while(option == \"Y\"):\n",
    "    print(\"************************** WELCOME **************************\")\n",
    "    print(\"1. Add a new patient\")\n",
    "    print(\"2. Discharged a patient\")\n",
    "    print(\"3. Watch patients reports\")\n",
    "    print(\"4. Exit\")\n",
    "    print(\"*************************************************************\")\n",
    "    option = int(input(\"What option do you want?: \"))\n",
    "    \n",
    "    while(option < 1 or option > 4):\n",
    "      print(\"INVALID OPTIOM...\")\n",
    "      option = int(input(\"What option do you want?: \"))\n",
    "    \n",
    "    if(option == \"1\"):\n",
    "      new_patient = Patient()\n",
    "      new_patient.get_patient_data()\n",
    "      new_patient_clinic_history = MedicalHistory(new_patient.id)\n",
    "      new_patient_clinic_history.get_clinical_history()\n",
    "      new_patient_clinic_history.diagnosis_method()\n",
    "      print(\"***************** Patient Data ******************************\")\n",
    "      print(new_patient)\n",
    "      print(new_patient_clinic_history)\n",
    "      \n",
    "    elif(option == \"2\"):\n",
    "      patient_id_to_release = str(input(\"Type the document of the patient the patient to be discharged: \"))\n",
    "      response = delete_patient_from_gurney(patient_id_to_release)\n",
    "      if(response == \"not found\"):\n",
    "        print(\"There's no patient with that document\")\n",
    "      else:\n",
    "        print(\"Patient discharged\")\n",
    "    elif(option == \"3\"):\n",
    "      get_patient_reports\n",
    "    else:\n",
    "      keep_option = \"N\"\n",
    "    \n",
    "    \n",
    "    \n",
    "  \n",
    "    "
   ]
  },
  {
   "cell_type": "code",
   "execution_count": null,
   "metadata": {},
   "outputs": [],
   "source": []
  }
 ],
 "metadata": {
  "kernelspec": {
   "display_name": "Python 3",
   "language": "python",
   "name": "python3"
  },
  "language_info": {
   "codemirror_mode": {
    "name": "ipython",
    "version": 3
   },
   "file_extension": ".py",
   "mimetype": "text/x-python",
   "name": "python",
   "nbconvert_exporter": "python",
   "pygments_lexer": "ipython3",
   "version": "3.8.8"
  },
  "orig_nbformat": 4
 },
 "nbformat": 4,
 "nbformat_minor": 2
}
